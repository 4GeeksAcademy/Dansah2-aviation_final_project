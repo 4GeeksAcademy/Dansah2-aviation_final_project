{
 "cells": [
  {
   "cell_type": "markdown",
   "id": "fc0fa110",
   "metadata": {},
   "source": [
    "# Data acquisition"
   ]
  },
  {
   "cell_type": "code",
   "execution_count": 1,
   "id": "673eaffe",
   "metadata": {},
   "outputs": [],
   "source": [
    "import pandas as pd\n",
    "import functions.data_acquisition as data_funcs"
   ]
  },
  {
   "cell_type": "markdown",
   "id": "cb0c1f62",
   "metadata": {},
   "source": [
    "## 1. NTSB incident data\n",
    "\n",
    "Data source: [NTSB Downloadable Aviation Datasets](https://data.ntsb.gov/avdata)"
   ]
  },
  {
   "cell_type": "markdown",
   "id": "c3cd340f",
   "metadata": {},
   "source": [
    "### 1.1. Download"
   ]
  },
  {
   "cell_type": "code",
   "execution_count": 2,
   "id": "15eb4f6d",
   "metadata": {},
   "outputs": [],
   "source": [
    "url='https://data.ntsb.gov/avdata/FileDirectory/DownloadFile?fileID=C%3A%5Cavdata%5Cavall.zip'\n",
    "data_funcs.download_data(url)"
   ]
  },
  {
   "cell_type": "markdown",
   "id": "5604392c",
   "metadata": {},
   "source": [
    "### 1.2. Parse\n",
    "\n",
    "Uses [access_parser](https://github.com/claroty/access_parser) to convert Microsoft Access database file to CSV and then read into Pandas DataFrame."
   ]
  },
  {
   "cell_type": "code",
   "execution_count": 3,
   "id": "c7afdf7c",
   "metadata": {},
   "outputs": [
    {
     "name": "stdout",
     "output_type": "stream",
     "text": [
      "{'MSysObjects': 2, 'aircraft': 18, 'Country': 35, 'ct_iaids': 37, 'ct_seqevt': 20, 'dt_aircraft': 70, 'dt_events': 73, 'dt_Flight_Crew': 76, 'eADMSPUB_DataDictionary': 79, 'engines': 1364, 'events': 1367, 'Events_Sequence': 1370, 'Findings': 1373, 'Flight_Crew': 961, 'flight_time': 964, 'injury': 967, 'MSysNavPaneGroupCategories': 1406, 'MSysNavPaneGroups': 1396, 'MSysNavPaneGroupToObjects': 1411, 'MSysNavPaneObjectIDs': 1416, 'narratives': 1419, 'NTSB_Admin': 1422, 'Occurrences': 1425, 'seq_of_events': 1428, 'states': 1430}\n"
     ]
    }
   ],
   "source": [
    "file='avall.mdb'\n",
    "table=data_funcs.parse_mdb(file)"
   ]
  },
  {
   "cell_type": "markdown",
   "id": "6811c603",
   "metadata": {},
   "source": [
    "### 1.3. Read"
   ]
  },
  {
   "cell_type": "code",
   "execution_count": 5,
   "id": "35da44ad",
   "metadata": {},
   "outputs": [
    {
     "data": {
      "text/html": [
       "<div>\n",
       "<style scoped>\n",
       "    .dataframe tbody tr th:only-of-type {\n",
       "        vertical-align: middle;\n",
       "    }\n",
       "\n",
       "    .dataframe tbody tr th {\n",
       "        vertical-align: top;\n",
       "    }\n",
       "\n",
       "    .dataframe thead th {\n",
       "        text-align: right;\n",
       "    }\n",
       "</style>\n",
       "<table border=\"1\" class=\"dataframe\">\n",
       "  <thead>\n",
       "    <tr style=\"text-align: right;\">\n",
       "      <th></th>\n",
       "      <th>Aircraft_Key</th>\n",
       "      <th>cert_max_gr_wt</th>\n",
       "      <th>fc_seats</th>\n",
       "      <th>cc_seats</th>\n",
       "      <th>pax_seats</th>\n",
       "      <th>total_seats</th>\n",
       "      <th>num_eng</th>\n",
       "      <th>date_last_insp</th>\n",
       "      <th>afm_hrs_last_insp</th>\n",
       "      <th>afm_hrs</th>\n",
       "      <th>...</th>\n",
       "      <th>lchg_userid</th>\n",
       "      <th>afm_hrs_since</th>\n",
       "      <th>rwy_num</th>\n",
       "      <th>site_seeing</th>\n",
       "      <th>air_medical</th>\n",
       "      <th>med_type_flight</th>\n",
       "      <th>fuel_on_board</th>\n",
       "      <th>elt_manufacturer</th>\n",
       "      <th>elt_model</th>\n",
       "      <th>elt_reason_other</th>\n",
       "    </tr>\n",
       "  </thead>\n",
       "  <tbody>\n",
       "    <tr>\n",
       "      <th>0</th>\n",
       "      <td>1</td>\n",
       "      <td>NaN</td>\n",
       "      <td>NaN</td>\n",
       "      <td>NaN</td>\n",
       "      <td>NaN</td>\n",
       "      <td>NaN</td>\n",
       "      <td>NaN</td>\n",
       "      <td>NaN</td>\n",
       "      <td>NaN</td>\n",
       "      <td>NaN</td>\n",
       "      <td>...</td>\n",
       "      <td>gibs-i</td>\n",
       "      <td>N</td>\n",
       "      <td>NaN</td>\n",
       "      <td>N</td>\n",
       "      <td>N</td>\n",
       "      <td>NaN</td>\n",
       "      <td>NaN</td>\n",
       "      <td>NaN</td>\n",
       "      <td>NaN</td>\n",
       "      <td>NaN</td>\n",
       "    </tr>\n",
       "    <tr>\n",
       "      <th>1</th>\n",
       "      <td>1</td>\n",
       "      <td>2400.0</td>\n",
       "      <td>NaN</td>\n",
       "      <td>NaN</td>\n",
       "      <td>NaN</td>\n",
       "      <td>4.0</td>\n",
       "      <td>1.0</td>\n",
       "      <td>2007-04-01 00:00:00</td>\n",
       "      <td>75.0</td>\n",
       "      <td>2865.0</td>\n",
       "      <td>...</td>\n",
       "      <td>NaN</td>\n",
       "      <td>Y</td>\n",
       "      <td>7</td>\n",
       "      <td>N</td>\n",
       "      <td>N</td>\n",
       "      <td>NaN</td>\n",
       "      <td>NaN</td>\n",
       "      <td>NaN</td>\n",
       "      <td>NaN</td>\n",
       "      <td>NaN</td>\n",
       "    </tr>\n",
       "    <tr>\n",
       "      <th>2</th>\n",
       "      <td>2</td>\n",
       "      <td>1960.0</td>\n",
       "      <td>NaN</td>\n",
       "      <td>NaN</td>\n",
       "      <td>NaN</td>\n",
       "      <td>2.0</td>\n",
       "      <td>1.0</td>\n",
       "      <td>2007-01-01 00:00:00</td>\n",
       "      <td>NaN</td>\n",
       "      <td>340.0</td>\n",
       "      <td>...</td>\n",
       "      <td>NaN</td>\n",
       "      <td>Y</td>\n",
       "      <td>7</td>\n",
       "      <td>N</td>\n",
       "      <td>N</td>\n",
       "      <td>NaN</td>\n",
       "      <td>NaN</td>\n",
       "      <td>NaN</td>\n",
       "      <td>NaN</td>\n",
       "      <td>NaN</td>\n",
       "    </tr>\n",
       "    <tr>\n",
       "      <th>3</th>\n",
       "      <td>1</td>\n",
       "      <td>2850.0</td>\n",
       "      <td>NaN</td>\n",
       "      <td>NaN</td>\n",
       "      <td>NaN</td>\n",
       "      <td>2.0</td>\n",
       "      <td>1.0</td>\n",
       "      <td>2007-09-01 00:00:00</td>\n",
       "      <td>NaN</td>\n",
       "      <td>516.0</td>\n",
       "      <td>...</td>\n",
       "      <td>NaN</td>\n",
       "      <td>N</td>\n",
       "      <td>090</td>\n",
       "      <td>N</td>\n",
       "      <td>N</td>\n",
       "      <td>NaN</td>\n",
       "      <td>NaN</td>\n",
       "      <td>NaN</td>\n",
       "      <td>NaN</td>\n",
       "      <td>NaN</td>\n",
       "    </tr>\n",
       "    <tr>\n",
       "      <th>4</th>\n",
       "      <td>1</td>\n",
       "      <td>9920.0</td>\n",
       "      <td>NaN</td>\n",
       "      <td>NaN</td>\n",
       "      <td>NaN</td>\n",
       "      <td>9.0</td>\n",
       "      <td>1.0</td>\n",
       "      <td>NaN</td>\n",
       "      <td>NaN</td>\n",
       "      <td>1871.0</td>\n",
       "      <td>...</td>\n",
       "      <td>NaN</td>\n",
       "      <td>N</td>\n",
       "      <td>NaN</td>\n",
       "      <td>N</td>\n",
       "      <td>N</td>\n",
       "      <td>NaN</td>\n",
       "      <td>NaN</td>\n",
       "      <td>NaN</td>\n",
       "      <td>NaN</td>\n",
       "      <td>NaN</td>\n",
       "    </tr>\n",
       "  </tbody>\n",
       "</table>\n",
       "<p>5 rows × 93 columns</p>\n",
       "</div>"
      ],
      "text/plain": [
       "   Aircraft_Key  cert_max_gr_wt  fc_seats  cc_seats  pax_seats  total_seats  \\\n",
       "0             1             NaN       NaN       NaN        NaN          NaN   \n",
       "1             1          2400.0       NaN       NaN        NaN          4.0   \n",
       "2             2          1960.0       NaN       NaN        NaN          2.0   \n",
       "3             1          2850.0       NaN       NaN        NaN          2.0   \n",
       "4             1          9920.0       NaN       NaN        NaN          9.0   \n",
       "\n",
       "   num_eng       date_last_insp  afm_hrs_last_insp  afm_hrs  ...  lchg_userid  \\\n",
       "0      NaN                  NaN                NaN      NaN  ...       gibs-i   \n",
       "1      1.0  2007-04-01 00:00:00               75.0   2865.0  ...          NaN   \n",
       "2      1.0  2007-01-01 00:00:00                NaN    340.0  ...          NaN   \n",
       "3      1.0  2007-09-01 00:00:00                NaN    516.0  ...          NaN   \n",
       "4      1.0                  NaN                NaN   1871.0  ...          NaN   \n",
       "\n",
       "   afm_hrs_since rwy_num  site_seeing  air_medical  med_type_flight  \\\n",
       "0              N     NaN            N            N              NaN   \n",
       "1              Y       7            N            N              NaN   \n",
       "2              Y       7            N            N              NaN   \n",
       "3              N     090            N            N              NaN   \n",
       "4              N     NaN            N            N              NaN   \n",
       "\n",
       "   fuel_on_board  elt_manufacturer  elt_model  elt_reason_other  \n",
       "0            NaN               NaN        NaN               NaN  \n",
       "1            NaN               NaN        NaN               NaN  \n",
       "2            NaN               NaN        NaN               NaN  \n",
       "3            NaN               NaN        NaN               NaN  \n",
       "4            NaN               NaN        NaN               NaN  \n",
       "\n",
       "[5 rows x 93 columns]"
      ]
     },
     "execution_count": 5,
     "metadata": {},
     "output_type": "execute_result"
    }
   ],
   "source": [
    "aircraft_df=pd.read_csv('../data/raw/aircraft.csv',low_memory=False)\n",
    "aircraft_df.head()"
   ]
  }
 ],
 "metadata": {
  "kernelspec": {
   "display_name": "Python 3",
   "language": "python",
   "name": "python3"
  },
  "language_info": {
   "codemirror_mode": {
    "name": "ipython",
    "version": 3
   },
   "file_extension": ".py",
   "mimetype": "text/x-python",
   "name": "python",
   "nbconvert_exporter": "python",
   "pygments_lexer": "ipython3",
   "version": "3.11.4"
  }
 },
 "nbformat": 4,
 "nbformat_minor": 5
}
